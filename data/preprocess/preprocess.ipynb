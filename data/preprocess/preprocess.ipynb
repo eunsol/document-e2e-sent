{
 "cells": [
  {
   "cell_type": "code",
   "execution_count": 1,
   "metadata": {},
   "outputs": [],
   "source": [
    "import json\n",
    "from pathlib import Path"
   ]
  },
  {
   "cell_type": "code",
   "execution_count": 7,
   "metadata": {},
   "outputs": [],
   "source": [
    "def load_annot(fname):\n",
    "    elem_dict = {}\n",
    "    with open(fname) as f:\n",
    "        lines = f.readlines()\n",
    "        for line in lines:\n",
    "            elem = json.loads(line.strip())\n",
    "            docId = elem.pop('docId')\n",
    "            elem_dict[docId] = elem\n",
    "    return elem_dict\n",
    "def load_doc(dirname, annot_ids):\n",
    "    doc_dict = {}\n",
    "    for annot_id in annot_ids:\n",
    "        fname = dirname + annot_id + \".json\"\n",
    "        with open(fname) as f:\n",
    "            doc_elem = json.load(f)\n",
    "            doc_dict[annot_id] = doc_elem\n",
    "    return doc_dict"
   ]
  },
  {
   "cell_type": "code",
   "execution_count": 5,
   "metadata": {},
   "outputs": [],
   "source": [
    "annot_dict = load_annot('../annotation/train.json')\n",
    "doc_dict = load_doc('/Users/echoi/Project/document-e2e-sent/data/doc/train_data/', annot_dict.keys())"
   ]
  },
  {
   "cell_type": "code",
   "execution_count": 20,
   "metadata": {},
   "outputs": [
    {
     "name": "stdout",
     "output_type": "stream",
     "text": [
      "--\n",
      "labels/\n",
      "[('Reazuddin', 'China', 'Positive'), ('Reazuddin', 'Bangladesh', 'Negative')]\n",
      "/labels\n",
      "-- new document --\n",
      "-cluster-\n",
      "[{'mention_type': 'PROPER', 'end_ind': 4, 'sent_ind': 1, 'word': 'Bangladesh', 'token_ind': 3}, {'mention_type': 'PROPER', 'end_ind': 10, 'sent_ind': 12, 'word': 'Bangladesh', 'token_ind': 9}, {'mention_type': 'PROPER', 'end_ind': 15, 'sent_ind': 11, 'word': 'Bangladesh', 'token_ind': 14}, {'mention_type': 'NOMINAL', 'end_ind': 15, 'sent_ind': 12, 'word': 'a least-developed country', 'token_ind': 12}, {'mention_type': 'PROPER', 'end_ind': 8, 'sent_ind': 8, 'word': 'Bangladesh', 'token_ind': 7}]\n",
      "-/cluster-\n",
      "11\n",
      "DHAKA [[2, 'LOCATION', 4, 4]]\n",
      "Interview: Bangladesh should learn from China experience of development: journalist\n",
      "English [[3, 'MISC', 22, 22]]\n",
      "Interview: Bangladesh should learn from China experience of development: journalist\n",
      "Huang Yanan [[2, 'PERSON', 2, 3]]\n",
      "Interview: Bangladesh should learn from China experience of development: journalist\n",
      "Bangladeshi [[2, 'MISC', 14, 14]]\n",
      "Interview: Bangladesh should learn from China experience of development: journalist\n",
      "Bangladesh [[1, 'LOCATION', 3, 3], [8, 'LOCATION', 7, 7], [11, 'LOCATION', 14, 14], [12, 'LOCATION', 9, 9]]\n",
      "Interview: Bangladesh should learn from China experience of development: journalist\n",
      "Chinese [[13, 'MISC', 15, 15], [14, 'MISC', 4, 4], [15, 'MISC', 12, 12]]\n",
      "Interview: Bangladesh should learn from China experience of development: journalist\n",
      "China [[1, 'LOCATION', 7, 7], [2, 'LOCATION', 25, 25], [3, 'LOCATION', 6, 6], [4, 'LOCATION', 3, 3], [5, 'LOCATION', 4, 4], [6, 'LOCATION', 7, 7], [7, 'LOCATION', 2, 2], [8, 'LOCATION', 5, 5], [9, 'LOCATION', 12, 12], [10, 'LOCATION', 5, 5], [11, 'LOCATION', 12, 12], [12, 'LOCATION', 1, 1], [13, 'LOCATION', 7, 7]]\n",
      "Interview: Bangladesh should learn from China experience of development: journalist\n",
      "Xinha [[2, 'PERSON', 31, 31]]\n",
      "Interview: Bangladesh should learn from China experience of development: journalist\n",
      "Reazuddin [[4, 'PERSON', 1, 1], [6, 'PERSON', 1, 1], [8, 'PERSON', 1, 1], [13, 'PERSON', 1, 1], [14, 'PERSON', 1, 1]]\n",
      "Interview: Bangladesh should learn from China experience of development: journalist\n",
      "Xinhua [[2, 'ORGANIZATION', 9, 9]]\n",
      "Interview: Bangladesh should learn from China experience of development: journalist\n",
      "Reazuddin Ahmed [[3, 'PERSON', 16, 17]]\n",
      "Interview: Bangladesh should learn from China experience of development: journalist\n",
      "['Interview', ':', 'Bangladesh', 'should', 'learn', 'from', 'China', 'experience', 'of', 'development', ':', 'journalist', '.']\n",
      "['By', 'Huang', 'Yanan', 'DHAKA', ',', 'June', '27', '-LRB-', 'Xinhua', '-RRB-', '--', 'A', 'senior', 'Bangladeshi', 'journalist', 'has', 'said', 'highly', 'about', 'the', 'rapid', 'economic', 'development', 'of', 'China', 'in', 'a', 'recent', 'interview', 'with', 'Xinha', 'and', 'hoped', 'his', 'own', 'country', 'could', 'learn', 'something', 'from', 'it', '.']\n",
      "['``', 'We', 'should', 'learn', 'from', 'China', 'for', 'its', 'successful', 'experience', 'of', 'development', ',', \"''\", 'said', 'Reazuddin', 'Ahmed', ',', 'chief', 'editor', 'of', 'English', 'daily', 'The', 'New', 'Today', '.']\n",
      "['Reazuddin', 'visited', 'China', '7', 'times', 'during', 'the', 'last', '30', 'years', '.']\n",
      "['He', 'witnessed', 'how', 'China', 'has', 'changed', 'from', 'poor', 'to', 'rich', ',', 'from', 'backward', 'to', 'developed', '.']\n",
      "['Reazuddin', 'made', 'the', 'first', 'visit', 'to', 'China', 'in', '1980', 'and', 'the', 'last', 'in', '2006', '.']\n",
      "['``', 'China', 'is', 'totally', 'different', 'now', 'comparing', 'with', 'it', 'was', 'in', '1980', ',', \"''\", 'he', 'said', '.']\n",
      "['Reazuddin', 'said', ',', '``', 'China', 'and', 'Bangladesh', 'were', 'almost', 'the', 'same', 'in', '1980', '.']\n",
      "['In', 'some', 'areas', ',', 'I', 'think', 'we', 'were', 'much', 'better', 'than', 'China', ',', 'like', 'we', 'enforced', 'open', 'market', 'policy', 'and', 'had', 'no', 'restriction', 'for', 'buying', 'goods', '.']\n",
      "['But', 'at', 'that', 'time', 'China', 'enforced', 'planned', 'economy', ',', 'people', 'bought', 'goods', 'with', 'coupons', '.', \"''\"]\n",
      "['``', '30', 'years', 'later', ',', 'the', 'gap', 'is', 'very', 'big', 'between', 'China', 'and', 'Bangladesh', '.']\n",
      "['China', 'has', 'become', 'a', 'modern', 'economic', 'power', ',', 'Bangladesh', 'is', 'still', 'a', 'least-developed', 'country', ',', \"''\", 'he', 'added', '.']\n",
      "['Reazuddin', 'attributed', 'the', 'fast', 'development', 'of', 'China', 'to', 'the', 'wise', 'decisions', 'made', 'by', 'the', 'Chinese', 'leaders', '.']\n",
      "['Reazuddin', 'said', 'the', 'Chinese', 'government', 'has', 'always', 'attached', 'great', 'importance', 'to', 'developing', 'its', 'economy', '.']\n",
      "['``', 'No', 'matter', 'what', 'is', 'happening', 'in', 'the', 'world', ',', 'the', 'Chinese', 'government', 'is', 'insisting', 'on', 'the', 'policy', 'of', 'development', \"'\", ',', \"''\", 'he', 'said', '.']\n"
     ]
    }
   ],
   "source": [
    "for doc_id, annot_elem in annot_dict.items():\n",
    "    doc_elem = doc_dict[doc_id]\n",
    "    print('--')\n",
    "    print('labels/')\n",
    "    print([(d['holder'], d['target'], d['sentiment']) for d in annot_elem['sentiments']])\n",
    "    print('/labels')\n",
    "    # output would be 'docId':'[{target: ent1, holder:ent2, label: label, context: [[tokens:[], ss: , se: , os: , oe:], [tokens:[], ss: , se: , os: , oe:],\n",
    "    # [tokens:[], ss: , se: , os: , oe:], [tokens:[], ss: , se: , os: , oe:]]}] \n",
    "    print('-- new document --')\n",
    "    for cluster in doc_elem['cluster_json']:\n",
    "        print('-cluster-')\n",
    "        print(cluster)\n",
    "        print('-/cluster-')\n",
    "        break\n",
    "    \n",
    "    print(len(doc_elem['named_entity'].items()))\n",
    "    for named_entity, occurences in doc_elem['named_entity'].items():\n",
    "        print(named_entity, occurences)\n",
    "        print(doc_elem['headline'])\n",
    "    for sent in doc_elem['text']:\n",
    "        print(sent)\n",
    "    break"
   ]
  },
  {
   "cell_type": "code",
   "execution_count": null,
   "metadata": {},
   "outputs": [],
   "source": []
  },
  {
   "cell_type": "code",
   "execution_count": null,
   "metadata": {},
   "outputs": [],
   "source": []
  }
 ],
 "metadata": {
  "kernelspec": {
   "display_name": "Python 3",
   "language": "python",
   "name": "python3"
  },
  "language_info": {
   "codemirror_mode": {
    "name": "ipython",
    "version": 3
   },
   "file_extension": ".py",
   "mimetype": "text/x-python",
   "name": "python",
   "nbconvert_exporter": "python",
   "pygments_lexer": "ipython3",
   "version": "3.5.1"
  }
 },
 "nbformat": 4,
 "nbformat_minor": 2
}

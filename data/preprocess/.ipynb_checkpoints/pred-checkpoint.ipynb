{
 "cells": [
  {
   "cell_type": "code",
   "execution_count": 3,
   "metadata": {},
   "outputs": [],
   "source": [
    "import json\n",
    "def load_prediction(fname):\n",
    "  with open(fname) as f:\n",
    "    for line in f:\n",
    "      line_elem = json.loads(line.strip())\n",
    "      for k, v in line_elem.items():\n",
    "        print(k, v)\n",
    "      break"
   ]
  },
  {
   "cell_type": "code",
   "execution_count": 4,
   "metadata": {},
   "outputs": [
    {
     "name": "stdout",
     "output_type": "stream",
     "text": [
      "sentiments [{'target': 'Spanish', 'holder': 'Catholic Church', 'sentiment': 'Negative', 'strength': ''}, {'target': 'Bishops Conference', 'holder': 'Trinidad Jimenez', 'sentiment': 'None', 'strength': ''}, {'target': 'Trinidad Jimenez', 'holder': 'Juan Antonio Martinez Camino', 'sentiment': 'Positive', 'strength': ''}, {'target': 'Catholic Church', 'holder': 'Juan Antonio Martinez Camino', 'sentiment': 'Positive', 'strength': ''}, {'target': 'Spanish', 'holder': 'Madrid', 'sentiment': 'None', 'strength': ''}, {'target': 'Catholic Church', 'holder': 'Spanish', 'sentiment': 'None', 'strength': ''}, {'target': 'Juan Antonio Martinez Camino', 'holder': 'Spanish', 'sentiment': 'None', 'strength': ''}, {'target': 'Madrid', 'holder': 'Catholic Church', 'sentiment': 'None', 'strength': ''}, {'target': 'Spanish', 'holder': 'Trinidad Jimenez', 'sentiment': 'None', 'strength': ''}, {'target': 'Madrid', 'holder': 'Bishops Conference', 'sentiment': 'None', 'strength': ''}, {'target': 'Trinidad Jimenez', 'holder': 'Madrid', 'sentiment': 'None', 'strength': ''}, {'target': 'Bishops Conference', 'holder': 'Spanish', 'sentiment': 'None', 'strength': ''}, {'target': 'Juan Antonio Martinez Camino', 'holder': 'Bishops Conference', 'sentiment': 'None', 'strength': ''}, {'target': 'Madrid', 'holder': 'Juan Antonio Martinez Camino', 'sentiment': 'Positive', 'strength': ''}, {'target': 'Trinidad Jimenez', 'holder': 'Catholic Church', 'sentiment': 'None', 'strength': ''}, {'target': 'Trinidad Jimenez', 'holder': 'Bishops Conference', 'sentiment': 'None', 'strength': ''}, {'target': 'Catholic Church', 'holder': 'Bishops Conference', 'sentiment': 'None', 'strength': ''}, {'target': 'Bishops Conference', 'holder': 'Catholic Church', 'sentiment': 'None', 'strength': ''}, {'target': 'Madrid', 'holder': 'Spanish', 'sentiment': 'None', 'strength': ''}, {'target': 'Juan Antonio Martinez Camino', 'holder': 'Catholic Church', 'sentiment': 'Negative', 'strength': ''}, {'target': 'Madrid', 'holder': 'Trinidad Jimenez', 'sentiment': 'None', 'strength': ''}, {'target': 'Bishops Conference', 'holder': 'Madrid', 'sentiment': 'None', 'strength': ''}, {'target': 'Spanish', 'holder': 'Juan Antonio Martinez Camino', 'sentiment': 'Positive', 'strength': ''}, {'target': 'Trinidad Jimenez', 'holder': 'Spanish', 'sentiment': 'None', 'strength': ''}, {'target': 'Bishops Conference', 'holder': 'Juan Antonio Martinez Camino', 'sentiment': 'Positive', 'strength': ''}, {'target': 'Catholic Church', 'holder': 'Madrid', 'sentiment': 'None', 'strength': ''}, {'target': 'Catholic Church', 'holder': 'Trinidad Jimenez', 'sentiment': 'Negative', 'strength': ''}, {'target': 'Juan Antonio Martinez Camino', 'holder': 'Madrid', 'sentiment': 'None', 'strength': ''}, {'target': 'Juan Antonio Martinez Camino', 'holder': 'Trinidad Jimenez', 'sentiment': 'Negative', 'strength': ''}, {'target': 'Spanish', 'holder': 'Bishops Conference', 'sentiment': 'None', 'strength': ''}]\n",
      "shownNEs []\n",
      "belong []\n",
      "docId AFP_ENG_20091111.0117\n"
     ]
    }
   ],
   "source": [
    "load_prediction('/Users/echoi/Project/document-e2e-sent/prediction/dev_tune_ilp.json')"
   ]
  },
  {
   "cell_type": "code",
   "execution_count": null,
   "metadata": {},
   "outputs": [],
   "source": [
    "def f1_micro(true_and_prediction):\n",
    "  num_examples = len(true_and_prediction)\n",
    "  num_predicted_labels = 0.\n",
    "  num_true_labels = 0.\n",
    "  num_correct_labels = 0.\n",
    "  pred_example_count = 0.\n",
    "  for true_labels, predicted_labels in true_and_prediction:\n",
    "    if predicted_labels:\n",
    "      pred_example_count += 1\n",
    "    num_predicted_labels += len(predicted_labels)\n",
    "    num_true_labels += len(true_labels)\n",
    "    num_correct_labels += len(set(predicted_labels).intersection(set(true_labels)))\n",
    "  if pred_example_count == 0:\n",
    "    return num_examples, 0, 0, 0, 0, 0\n",
    "  precision = num_correct_labels / num_predicted_labels\n",
    "  recall = num_correct_labels / num_true_labels\n",
    "  avg_elem_per_pred = num_predicted_labels / pred_example_count\n",
    "  return num_examples, pred_example_count, avg_elem_per_pred, precision, recall, f1(precision, recall)"
   ]
  }
 ],
 "metadata": {
  "kernelspec": {
   "display_name": "Python 3",
   "language": "python",
   "name": "python3"
  },
  "language_info": {
   "codemirror_mode": {
    "name": "ipython",
    "version": 3
   },
   "file_extension": ".py",
   "mimetype": "text/x-python",
   "name": "python",
   "nbconvert_exporter": "python",
   "pygments_lexer": "ipython3",
   "version": "3.5.1"
  }
 },
 "nbformat": 4,
 "nbformat_minor": 2
}
